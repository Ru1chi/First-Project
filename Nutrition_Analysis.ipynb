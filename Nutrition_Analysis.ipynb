{
  "cells": [
    {
      "cell_type": "markdown",
      "metadata": {
        "id": "view-in-github",
        "colab_type": "text"
      },
      "source": [
        "<a href=\"https://colab.research.google.com/github/Ru1chi/First-Project/blob/main/Nutrition_Analysis.ipynb\" target=\"_parent\"><img src=\"https://colab.research.google.com/assets/colab-badge.svg\" alt=\"Open In Colab\"/></a>"
      ]
    },
    {
      "cell_type": "code",
      "execution_count": null,
      "metadata": {
        "id": "3cSXoplO-pXd"
      },
      "outputs": [],
      "source": [
        "import pandas as pd\n",
        "from sklearn.model_selection import train_test_split\n",
        "from sklearn.preprocessing import OneHotEncoder\n",
        "from sklearn.linear_model import LinearRegression\n",
        "from sklearn.metrics import mean_squared_error\n",
        "\n"
      ]
    },
    {
      "cell_type": "code",
      "execution_count": null,
      "metadata": {
        "id": "3P5Y4JxD-25N"
      },
      "outputs": [],
      "source": [
        "# Load the dataset\n",
        "data = pd.read_excel('/content/nutition.csv.xlsx')\n",
        "\n"
      ]
    },
    {
      "cell_type": "code",
      "execution_count": null,
      "metadata": {
        "colab": {
          "base_uri": "https://localhost:8080/"
        },
        "id": "pJfwHwkR_CrR",
        "outputId": "14898adf-5194-43ad-88e3-32f91ced25c4"
      },
      "outputs": [
        {
          "output_type": "stream",
          "name": "stdout",
          "text": [
            "       Ingredient  Calories  Protein (g)  Carbs (g)  Fat (g)  Fiber (g)  \\\n",
            "0       Spaghetti       158          5.8       31.0      0.9        1.8   \n",
            "1     Ground Beef       250         26.1        0.0     17.5        0.0   \n",
            "2    Tomato Sauce        82          2.2       18.0      0.9        2.7   \n",
            "3     Black Beans       132          8.9       23.6      0.5        8.7   \n",
            "4  Chicken Breast       165         31.0        0.0      3.6        0.0   \n",
            "\n",
            "   Sugars (g)  \n",
            "0         0.6  \n",
            "1         0.0  \n",
            "2        11.1  \n",
            "3         0.3  \n",
            "4         0.0  \n",
            "(5, 7)\n",
            "Ingredient     0\n",
            "Calories       0\n",
            "Protein (g)    0\n",
            "Carbs (g)      0\n",
            "Fat (g)        0\n",
            "Fiber (g)      0\n",
            "Sugars (g)     0\n",
            "dtype: int64\n",
            "\n",
            "Training model to predict: Calories\n",
            "Mean Squared Error for Calories: 13398.0625\n",
            "Model Coefficients for Calories: [-2.25000000e+00  3.07500000e+01  1.77635684e-15  2.37500000e+01\n",
            " -5.22500000e+01]\n",
            "\n",
            "Training model to predict: Protein (g)\n",
            "Mean Squared Error for Protein (g): 199.5156250000001\n",
            "Model Coefficients for Protein (g): [-3.07500000e+00  1.90250000e+01 -1.11022302e-16 -6.17500000e+00\n",
            " -9.77500000e+00]\n",
            "\n",
            "Training model to predict: Carbs (g)\n",
            "Mean Squared Error for Carbs (g): 329.42249999999996\n",
            "Model Coefficients for Carbs (g): [ 5.45000000e+00 -1.81500000e+01  6.66133815e-16  1.28500000e+01\n",
            " -1.50000000e-01]\n",
            "\n",
            "Training model to predict: Fat (g)\n",
            "Mean Squared Error for Fat (g): 256.80062499999997\n",
            "Model Coefficients for Fat (g): [-9.75000000e-01  2.12500000e+00  2.08166817e-17 -5.75000000e-01\n",
            " -5.75000000e-01]\n",
            "\n",
            "Training model to predict: Fiber (g)\n",
            "Mean Squared Error for Fiber (g): 10.889999999999993\n",
            "Model Coefficients for Fiber (g): [ 5.40000000e+00 -3.30000000e+00 -5.55111512e-16 -1.50000000e+00\n",
            " -6.00000000e-01]\n",
            "\n",
            "Training model to predict: Sugars (g)\n",
            "Mean Squared Error for Sugars (g): 9.000000000000004\n",
            "Model Coefficients for Sugars (g): [-2.7 -3.   0.  -2.4  8.1]\n"
          ]
        }
      ],
      "source": [
        "\n",
        "# Display the first few rows of the dataset\n",
        "print(data.head())\n",
        "\n",
        "# Display the shape of the dataset\n",
        "print(data.shape)\n",
        "\n",
        "# Check for missing values\n",
        "print(data.isnull().sum())\n",
        "\n",
        "# Fill missing values with the mean of the column (for simplicity)\n",
        "\n",
        "\n",
        "# Encode the 'Ingredient' feature using one-hot encoding\n",
        "encoder = OneHotEncoder()\n",
        "encoded_ingredients = encoder.fit_transform(data[['Ingredient']]).toarray()\n",
        "encoded_ingredient_df = pd.DataFrame(encoded_ingredients, columns=encoder.get_feature_names_out(['Ingredient']))\n",
        "\n",
        "# Combine the encoded ingredient features with the rest of the dataset\n",
        "data = pd.concat([data, encoded_ingredient_df], axis=1)\n",
        "data.drop('Ingredient', axis=1, inplace=True)\n",
        "\n",
        "# Define a list of all the features to be used as targets\n",
        "target_features = ['Calories', 'Protein (g)', 'Carbs (g)', 'Fat (g)', 'Fiber (g)', 'Sugars (g)']\n",
        "\n",
        "# Loop through each target feature\n",
        "for target in target_features:\n",
        "    print(f\"\\nTraining model to predict: {target}\")\n",
        "\n",
        "    # Define the features (X) and the target (y)\n",
        "    X = data.drop(target_features, axis=1)\n",
        "    y = data[target]\n",
        "\n",
        "    # Split the data into training and testing sets\n",
        "    X_train, X_test, y_train, y_test = train_test_split(X, y, test_size=0.2, random_state=42)\n",
        "\n",
        "    # Initialize the Linear Regression model\n",
        "    model = LinearRegression()\n",
        "\n",
        "    # Train the model\n",
        "    model.fit(X_train, y_train)\n",
        "\n",
        "    # Make predictions on the test set\n",
        "    y_pred = model.predict(X_test)\n",
        "\n",
        "    # Evaluate the model\n",
        "    mse = mean_squared_error(y_test, y_pred)\n",
        "    print(f\"Mean Squared Error for {target}: {mse}\")\n",
        "\n",
        "    # Print the model's coefficients\n",
        "    print(f\"Model Coefficients for {target}: {model.coef_}\")\n"
      ]
    },
    {
      "cell_type": "code",
      "source": [
        "import pickle\n",
        "\n",
        "filename='Nitrition_analysis.sav'\n",
        "pickle.dump(model,open(filename,'wb'))\n",
        "\n",
        "loaded_model=pickle.load(open('Nitrition_analysis.sav','rb'))\n",
        "\n",
        "for column in X.columns:\n",
        "  print(column)"
      ],
      "metadata": {
        "colab": {
          "base_uri": "https://localhost:8080/"
        },
        "id": "zCIas7LWwGh9",
        "outputId": "a30f9d67-9820-4f87-c967-1f2c39b8287c"
      },
      "execution_count": null,
      "outputs": [
        {
          "output_type": "stream",
          "name": "stdout",
          "text": [
            "Ingredient_Black Beans\n",
            "Ingredient_Chicken Breast\n",
            "Ingredient_Ground Beef\n",
            "Ingredient_Spaghetti\n",
            "Ingredient_Tomato Sauce\n"
          ]
        }
      ]
    },
    {
      "cell_type": "code",
      "source": [],
      "metadata": {
        "id": "LvMAtY3zwHNj"
      },
      "execution_count": null,
      "outputs": []
    }
  ],
  "metadata": {
    "colab": {
      "provenance": [],
      "authorship_tag": "ABX9TyNruRMohM0Onb+wu2qxkLIE",
      "include_colab_link": true
    },
    "kernelspec": {
      "display_name": "Python 3",
      "name": "python3"
    },
    "language_info": {
      "name": "python"
    }
  },
  "nbformat": 4,
  "nbformat_minor": 0
}