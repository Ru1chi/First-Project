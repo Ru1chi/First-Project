{
  "nbformat": 4,
  "nbformat_minor": 0,
  "metadata": {
    "colab": {
      "provenance": [],
      "authorship_tag": "ABX9TyPUs6Yiib8PsTjzEJKFGerd",
      "include_colab_link": true
    },
    "kernelspec": {
      "name": "python3",
      "display_name": "Python 3"
    },
    "language_info": {
      "name": "python"
    }
  },
  "cells": [
    {
      "cell_type": "markdown",
      "metadata": {
        "id": "view-in-github",
        "colab_type": "text"
      },
      "source": [
        "<a href=\"https://colab.research.google.com/github/Ru1chi/First-Project/blob/main/recipe_recommendation.ipynb\" target=\"_parent\"><img src=\"https://colab.research.google.com/assets/colab-badge.svg\" alt=\"Open In Colab\"/></a>"
      ]
    },
    {
      "cell_type": "code",
      "source": [
        "import pandas as pd\n",
        "import difflib\n",
        "from sklearn.feature_extraction.text import TfidfVectorizer\n",
        "from sklearn.metrics.pairwise import cosine_similarity\n",
        "\n"
      ],
      "metadata": {
        "id": "ib6j9bW2F4KB"
      },
      "execution_count": null,
      "outputs": []
    },
    {
      "cell_type": "code",
      "source": [
        "# Load recipe data\n",
        "recipe_data = pd.read_excel('/content/recipes.csv.xlsx')\n",
        "\n"
      ],
      "metadata": {
        "id": "tRhvdHcSG5_f"
      },
      "execution_count": null,
      "outputs": []
    },
    {
      "cell_type": "code",
      "source": [
        "recipe_data"
      ],
      "metadata": {
        "colab": {
          "base_uri": "https://localhost:8080/",
          "height": 389
        },
        "id": "3LBk-JD8Hhtr",
        "outputId": "a0f3eb39-6968-4d58-eb86-6141ae03e96d"
      },
      "execution_count": null,
      "outputs": [
        {
          "output_type": "execute_result",
          "data": {
            "text/plain": [
              "   RecipeID           RecipeName  \\\n",
              "0         1  Spaghetti Bolognese   \n",
              "1         2          Vegan Tacos   \n",
              "2         3        Chicken Salad   \n",
              "\n",
              "                                         Ingredients  \\\n",
              "0  Spaghetti, Ground Beef, Tomato Sauce, Garlic, ...   \n",
              "1  Tortillas, Black Beans, Corn, Avocado, Tomato,...   \n",
              "2  Chicken Breast, Lettuce, Tomato, Cucumber, Oli...   \n",
              "\n",
              "                                        Instructions   Cuisine  \\\n",
              "0  Cook spaghetti. Cook beef with garlic and onio...   Italian   \n",
              "1  Warm tortillas. Fill with beans, corn, avocado...   Mexican   \n",
              "2  Grill chicken. Mix with chopped lettuce, tomat...  American   \n",
              "\n",
              "       DietaryPreferences  \n",
              "0  High Protein, Low Carb  \n",
              "1      Vegan, Gluten Free  \n",
              "2   High Protein, Low Fat  "
            ],
            "text/html": [
              "\n",
              "  <div id=\"df-79076220-62e6-4f5a-ab7f-8fb1bd494ec2\" class=\"colab-df-container\">\n",
              "    <div>\n",
              "<style scoped>\n",
              "    .dataframe tbody tr th:only-of-type {\n",
              "        vertical-align: middle;\n",
              "    }\n",
              "\n",
              "    .dataframe tbody tr th {\n",
              "        vertical-align: top;\n",
              "    }\n",
              "\n",
              "    .dataframe thead th {\n",
              "        text-align: right;\n",
              "    }\n",
              "</style>\n",
              "<table border=\"1\" class=\"dataframe\">\n",
              "  <thead>\n",
              "    <tr style=\"text-align: right;\">\n",
              "      <th></th>\n",
              "      <th>RecipeID</th>\n",
              "      <th>RecipeName</th>\n",
              "      <th>Ingredients</th>\n",
              "      <th>Instructions</th>\n",
              "      <th>Cuisine</th>\n",
              "      <th>DietaryPreferences</th>\n",
              "    </tr>\n",
              "  </thead>\n",
              "  <tbody>\n",
              "    <tr>\n",
              "      <th>0</th>\n",
              "      <td>1</td>\n",
              "      <td>Spaghetti Bolognese</td>\n",
              "      <td>Spaghetti, Ground Beef, Tomato Sauce, Garlic, ...</td>\n",
              "      <td>Cook spaghetti. Cook beef with garlic and onio...</td>\n",
              "      <td>Italian</td>\n",
              "      <td>High Protein, Low Carb</td>\n",
              "    </tr>\n",
              "    <tr>\n",
              "      <th>1</th>\n",
              "      <td>2</td>\n",
              "      <td>Vegan Tacos</td>\n",
              "      <td>Tortillas, Black Beans, Corn, Avocado, Tomato,...</td>\n",
              "      <td>Warm tortillas. Fill with beans, corn, avocado...</td>\n",
              "      <td>Mexican</td>\n",
              "      <td>Vegan, Gluten Free</td>\n",
              "    </tr>\n",
              "    <tr>\n",
              "      <th>2</th>\n",
              "      <td>3</td>\n",
              "      <td>Chicken Salad</td>\n",
              "      <td>Chicken Breast, Lettuce, Tomato, Cucumber, Oli...</td>\n",
              "      <td>Grill chicken. Mix with chopped lettuce, tomat...</td>\n",
              "      <td>American</td>\n",
              "      <td>High Protein, Low Fat</td>\n",
              "    </tr>\n",
              "  </tbody>\n",
              "</table>\n",
              "</div>\n",
              "    <div class=\"colab-df-buttons\">\n",
              "\n",
              "  <div class=\"colab-df-container\">\n",
              "    <button class=\"colab-df-convert\" onclick=\"convertToInteractive('df-79076220-62e6-4f5a-ab7f-8fb1bd494ec2')\"\n",
              "            title=\"Convert this dataframe to an interactive table.\"\n",
              "            style=\"display:none;\">\n",
              "\n",
              "  <svg xmlns=\"http://www.w3.org/2000/svg\" height=\"24px\" viewBox=\"0 -960 960 960\">\n",
              "    <path d=\"M120-120v-720h720v720H120Zm60-500h600v-160H180v160Zm220 220h160v-160H400v160Zm0 220h160v-160H400v160ZM180-400h160v-160H180v160Zm440 0h160v-160H620v160ZM180-180h160v-160H180v160Zm440 0h160v-160H620v160Z\"/>\n",
              "  </svg>\n",
              "    </button>\n",
              "\n",
              "  <style>\n",
              "    .colab-df-container {\n",
              "      display:flex;\n",
              "      gap: 12px;\n",
              "    }\n",
              "\n",
              "    .colab-df-convert {\n",
              "      background-color: #E8F0FE;\n",
              "      border: none;\n",
              "      border-radius: 50%;\n",
              "      cursor: pointer;\n",
              "      display: none;\n",
              "      fill: #1967D2;\n",
              "      height: 32px;\n",
              "      padding: 0 0 0 0;\n",
              "      width: 32px;\n",
              "    }\n",
              "\n",
              "    .colab-df-convert:hover {\n",
              "      background-color: #E2EBFA;\n",
              "      box-shadow: 0px 1px 2px rgba(60, 64, 67, 0.3), 0px 1px 3px 1px rgba(60, 64, 67, 0.15);\n",
              "      fill: #174EA6;\n",
              "    }\n",
              "\n",
              "    .colab-df-buttons div {\n",
              "      margin-bottom: 4px;\n",
              "    }\n",
              "\n",
              "    [theme=dark] .colab-df-convert {\n",
              "      background-color: #3B4455;\n",
              "      fill: #D2E3FC;\n",
              "    }\n",
              "\n",
              "    [theme=dark] .colab-df-convert:hover {\n",
              "      background-color: #434B5C;\n",
              "      box-shadow: 0px 1px 3px 1px rgba(0, 0, 0, 0.15);\n",
              "      filter: drop-shadow(0px 1px 2px rgba(0, 0, 0, 0.3));\n",
              "      fill: #FFFFFF;\n",
              "    }\n",
              "  </style>\n",
              "\n",
              "    <script>\n",
              "      const buttonEl =\n",
              "        document.querySelector('#df-79076220-62e6-4f5a-ab7f-8fb1bd494ec2 button.colab-df-convert');\n",
              "      buttonEl.style.display =\n",
              "        google.colab.kernel.accessAllowed ? 'block' : 'none';\n",
              "\n",
              "      async function convertToInteractive(key) {\n",
              "        const element = document.querySelector('#df-79076220-62e6-4f5a-ab7f-8fb1bd494ec2');\n",
              "        const dataTable =\n",
              "          await google.colab.kernel.invokeFunction('convertToInteractive',\n",
              "                                                    [key], {});\n",
              "        if (!dataTable) return;\n",
              "\n",
              "        const docLinkHtml = 'Like what you see? Visit the ' +\n",
              "          '<a target=\"_blank\" href=https://colab.research.google.com/notebooks/data_table.ipynb>data table notebook</a>'\n",
              "          + ' to learn more about interactive tables.';\n",
              "        element.innerHTML = '';\n",
              "        dataTable['output_type'] = 'display_data';\n",
              "        await google.colab.output.renderOutput(dataTable, element);\n",
              "        const docLink = document.createElement('div');\n",
              "        docLink.innerHTML = docLinkHtml;\n",
              "        element.appendChild(docLink);\n",
              "      }\n",
              "    </script>\n",
              "  </div>\n",
              "\n",
              "\n",
              "<div id=\"df-8c8c3ca5-2f68-4194-b35f-2bb6dd412625\">\n",
              "  <button class=\"colab-df-quickchart\" onclick=\"quickchart('df-8c8c3ca5-2f68-4194-b35f-2bb6dd412625')\"\n",
              "            title=\"Suggest charts\"\n",
              "            style=\"display:none;\">\n",
              "\n",
              "<svg xmlns=\"http://www.w3.org/2000/svg\" height=\"24px\"viewBox=\"0 0 24 24\"\n",
              "     width=\"24px\">\n",
              "    <g>\n",
              "        <path d=\"M19 3H5c-1.1 0-2 .9-2 2v14c0 1.1.9 2 2 2h14c1.1 0 2-.9 2-2V5c0-1.1-.9-2-2-2zM9 17H7v-7h2v7zm4 0h-2V7h2v10zm4 0h-2v-4h2v4z\"/>\n",
              "    </g>\n",
              "</svg>\n",
              "  </button>\n",
              "\n",
              "<style>\n",
              "  .colab-df-quickchart {\n",
              "      --bg-color: #E8F0FE;\n",
              "      --fill-color: #1967D2;\n",
              "      --hover-bg-color: #E2EBFA;\n",
              "      --hover-fill-color: #174EA6;\n",
              "      --disabled-fill-color: #AAA;\n",
              "      --disabled-bg-color: #DDD;\n",
              "  }\n",
              "\n",
              "  [theme=dark] .colab-df-quickchart {\n",
              "      --bg-color: #3B4455;\n",
              "      --fill-color: #D2E3FC;\n",
              "      --hover-bg-color: #434B5C;\n",
              "      --hover-fill-color: #FFFFFF;\n",
              "      --disabled-bg-color: #3B4455;\n",
              "      --disabled-fill-color: #666;\n",
              "  }\n",
              "\n",
              "  .colab-df-quickchart {\n",
              "    background-color: var(--bg-color);\n",
              "    border: none;\n",
              "    border-radius: 50%;\n",
              "    cursor: pointer;\n",
              "    display: none;\n",
              "    fill: var(--fill-color);\n",
              "    height: 32px;\n",
              "    padding: 0;\n",
              "    width: 32px;\n",
              "  }\n",
              "\n",
              "  .colab-df-quickchart:hover {\n",
              "    background-color: var(--hover-bg-color);\n",
              "    box-shadow: 0 1px 2px rgba(60, 64, 67, 0.3), 0 1px 3px 1px rgba(60, 64, 67, 0.15);\n",
              "    fill: var(--button-hover-fill-color);\n",
              "  }\n",
              "\n",
              "  .colab-df-quickchart-complete:disabled,\n",
              "  .colab-df-quickchart-complete:disabled:hover {\n",
              "    background-color: var(--disabled-bg-color);\n",
              "    fill: var(--disabled-fill-color);\n",
              "    box-shadow: none;\n",
              "  }\n",
              "\n",
              "  .colab-df-spinner {\n",
              "    border: 2px solid var(--fill-color);\n",
              "    border-color: transparent;\n",
              "    border-bottom-color: var(--fill-color);\n",
              "    animation:\n",
              "      spin 1s steps(1) infinite;\n",
              "  }\n",
              "\n",
              "  @keyframes spin {\n",
              "    0% {\n",
              "      border-color: transparent;\n",
              "      border-bottom-color: var(--fill-color);\n",
              "      border-left-color: var(--fill-color);\n",
              "    }\n",
              "    20% {\n",
              "      border-color: transparent;\n",
              "      border-left-color: var(--fill-color);\n",
              "      border-top-color: var(--fill-color);\n",
              "    }\n",
              "    30% {\n",
              "      border-color: transparent;\n",
              "      border-left-color: var(--fill-color);\n",
              "      border-top-color: var(--fill-color);\n",
              "      border-right-color: var(--fill-color);\n",
              "    }\n",
              "    40% {\n",
              "      border-color: transparent;\n",
              "      border-right-color: var(--fill-color);\n",
              "      border-top-color: var(--fill-color);\n",
              "    }\n",
              "    60% {\n",
              "      border-color: transparent;\n",
              "      border-right-color: var(--fill-color);\n",
              "    }\n",
              "    80% {\n",
              "      border-color: transparent;\n",
              "      border-right-color: var(--fill-color);\n",
              "      border-bottom-color: var(--fill-color);\n",
              "    }\n",
              "    90% {\n",
              "      border-color: transparent;\n",
              "      border-bottom-color: var(--fill-color);\n",
              "    }\n",
              "  }\n",
              "</style>\n",
              "\n",
              "  <script>\n",
              "    async function quickchart(key) {\n",
              "      const quickchartButtonEl =\n",
              "        document.querySelector('#' + key + ' button');\n",
              "      quickchartButtonEl.disabled = true;  // To prevent multiple clicks.\n",
              "      quickchartButtonEl.classList.add('colab-df-spinner');\n",
              "      try {\n",
              "        const charts = await google.colab.kernel.invokeFunction(\n",
              "            'suggestCharts', [key], {});\n",
              "      } catch (error) {\n",
              "        console.error('Error during call to suggestCharts:', error);\n",
              "      }\n",
              "      quickchartButtonEl.classList.remove('colab-df-spinner');\n",
              "      quickchartButtonEl.classList.add('colab-df-quickchart-complete');\n",
              "    }\n",
              "    (() => {\n",
              "      let quickchartButtonEl =\n",
              "        document.querySelector('#df-8c8c3ca5-2f68-4194-b35f-2bb6dd412625 button');\n",
              "      quickchartButtonEl.style.display =\n",
              "        google.colab.kernel.accessAllowed ? 'block' : 'none';\n",
              "    })();\n",
              "  </script>\n",
              "</div>\n",
              "    </div>\n",
              "  </div>\n"
            ],
            "application/vnd.google.colaboratory.intrinsic+json": {
              "type": "dataframe",
              "variable_name": "recipe_data",
              "summary": "{\n  \"name\": \"recipe_data\",\n  \"rows\": 3,\n  \"fields\": [\n    {\n      \"column\": \"RecipeID\",\n      \"properties\": {\n        \"dtype\": \"number\",\n        \"std\": 1,\n        \"min\": 1,\n        \"max\": 3,\n        \"num_unique_values\": 3,\n        \"samples\": [\n          1,\n          2,\n          3\n        ],\n        \"semantic_type\": \"\",\n        \"description\": \"\"\n      }\n    },\n    {\n      \"column\": \"RecipeName\",\n      \"properties\": {\n        \"dtype\": \"string\",\n        \"num_unique_values\": 3,\n        \"samples\": [\n          \"Spaghetti Bolognese\",\n          \"Vegan Tacos\",\n          \"Chicken Salad\"\n        ],\n        \"semantic_type\": \"\",\n        \"description\": \"\"\n      }\n    },\n    {\n      \"column\": \"Ingredients\",\n      \"properties\": {\n        \"dtype\": \"string\",\n        \"num_unique_values\": 3,\n        \"samples\": [\n          \"Spaghetti, Ground Beef, Tomato Sauce, Garlic, Onion, Olive Oil, Salt, Pepper\",\n          \"Tortillas, Black Beans, Corn, Avocado, Tomato, Lettuce, Lime, Salt, Pepper\",\n          \"Chicken Breast, Lettuce, Tomato, Cucumber, Olive Oil, Lemon, Salt, Pepper\"\n        ],\n        \"semantic_type\": \"\",\n        \"description\": \"\"\n      }\n    },\n    {\n      \"column\": \"Instructions\",\n      \"properties\": {\n        \"dtype\": \"string\",\n        \"num_unique_values\": 3,\n        \"samples\": [\n          \"Cook spaghetti. Cook beef with garlic and onion, add tomato sauce. Mix and serve.\",\n          \"Warm tortillas. Fill with beans, corn, avocado, tomato, lettuce. Squeeze lime on top.\",\n          \"Grill chicken. Mix with chopped lettuce, tomato, cucumber. Dress with olive oil and lemon.\"\n        ],\n        \"semantic_type\": \"\",\n        \"description\": \"\"\n      }\n    },\n    {\n      \"column\": \"Cuisine\",\n      \"properties\": {\n        \"dtype\": \"string\",\n        \"num_unique_values\": 3,\n        \"samples\": [\n          \"Italian\",\n          \"Mexican\",\n          \"American\"\n        ],\n        \"semantic_type\": \"\",\n        \"description\": \"\"\n      }\n    },\n    {\n      \"column\": \"DietaryPreferences\",\n      \"properties\": {\n        \"dtype\": \"string\",\n        \"num_unique_values\": 3,\n        \"samples\": [\n          \"High Protein, Low Carb\",\n          \"Vegan, Gluten Free\",\n          \"High Protein, Low Fat\"\n        ],\n        \"semantic_type\": \"\",\n        \"description\": \"\"\n      }\n    }\n  ]\n}"
            }
          },
          "metadata": {},
          "execution_count": 6
        }
      ]
    },
    {
      "cell_type": "code",
      "source": [
        "# Describe the data and print it\n",
        "print(recipe_data.describe())\n",
        "print(recipe_data)\n",
        "\n",
        "# Print the shape of the data\n",
        "print(recipe_data.shape)\n",
        "\n"
      ],
      "metadata": {
        "colab": {
          "base_uri": "https://localhost:8080/"
        },
        "id": "f5Y9cNl4HkUd",
        "outputId": "65112950-a53a-43a0-f8d6-937c73940a07"
      },
      "execution_count": null,
      "outputs": [
        {
          "output_type": "stream",
          "name": "stdout",
          "text": [
            "       RecipeID\n",
            "count       3.0\n",
            "mean        2.0\n",
            "std         1.0\n",
            "min         1.0\n",
            "25%         1.5\n",
            "50%         2.0\n",
            "75%         2.5\n",
            "max         3.0\n",
            "   RecipeID           RecipeName  \\\n",
            "0         1  Spaghetti Bolognese   \n",
            "1         2          Vegan Tacos   \n",
            "2         3        Chicken Salad   \n",
            "\n",
            "                                         Ingredients  \\\n",
            "0  Spaghetti, Ground Beef, Tomato Sauce, Garlic, ...   \n",
            "1  Tortillas, Black Beans, Corn, Avocado, Tomato,...   \n",
            "2  Chicken Breast, Lettuce, Tomato, Cucumber, Oli...   \n",
            "\n",
            "                                        Instructions   Cuisine  \\\n",
            "0  Cook spaghetti. Cook beef with garlic and onio...   Italian   \n",
            "1  Warm tortillas. Fill with beans, corn, avocado...   Mexican   \n",
            "2  Grill chicken. Mix with chopped lettuce, tomat...  American   \n",
            "\n",
            "       DietaryPreferences  \n",
            "0  High Protein, Low Carb  \n",
            "1      Vegan, Gluten Free  \n",
            "2   High Protein, Low Fat  \n",
            "(3, 6)\n"
          ]
        }
      ]
    },
    {
      "cell_type": "code",
      "source": [
        "# Selecting features of our choice\n",
        "features = ['Instructions', 'Cuisine', 'DietaryPreferences']\n",
        "\n",
        "# Filling the null values with empty strings\n",
        "for feature in features:\n",
        "    recipe_data[feature] = recipe_data[feature].fillna(' ')\n",
        "\n",
        "# Combine all the selected features into a single string\n",
        "combined_features = recipe_data['Instructions'] + ' ' + recipe_data['Cuisine'] + ' ' + recipe_data['DietaryPreferences']\n",
        "\n"
      ],
      "metadata": {
        "id": "H-QstuVoHotp"
      },
      "execution_count": null,
      "outputs": []
    },
    {
      "cell_type": "code",
      "source": [
        "# Converting text to feature vectors using TF-IDF Vectorizer\n",
        "vectorizer = TfidfVectorizer()\n",
        "feature_vector = vectorizer.fit_transform(combined_features)\n",
        "\n",
        "# Print the feature vectors\n",
        "print(feature_vector)\n",
        "\n",
        "# Print the shape of the feature vectors\n",
        "print(feature_vector.shape)\n",
        "\n"
      ],
      "metadata": {
        "colab": {
          "base_uri": "https://localhost:8080/"
        },
        "id": "klXOFpgNHtVe",
        "outputId": "b95b08f6-d7d5-4623-8a7f-f5e0a845f06c"
      },
      "execution_count": null,
      "outputs": [
        {
          "output_type": "stream",
          "name": "stdout",
          "text": [
            "  (0, 6)\t0.23360373424918143\n",
            "  (0, 24)\t0.17766166113862597\n",
            "  (0, 31)\t0.17766166113862597\n",
            "  (0, 19)\t0.17766166113862597\n",
            "  (0, 20)\t0.23360373424918143\n",
            "  (0, 33)\t0.23360373424918143\n",
            "  (0, 26)\t0.17766166113862597\n",
            "  (0, 32)\t0.23360373424918143\n",
            "  (0, 36)\t0.13797012860507832\n",
            "  (0, 0)\t0.23360373424918143\n",
            "  (0, 30)\t0.23360373424918143\n",
            "  (0, 2)\t0.35532332227725194\n",
            "  (0, 16)\t0.23360373424918143\n",
            "  (0, 41)\t0.13797012860507832\n",
            "  (0, 5)\t0.23360373424918143\n",
            "  (0, 34)\t0.23360373424918143\n",
            "  (0, 9)\t0.46720746849836287\n",
            "  (1, 15)\t0.25585529205196594\n",
            "  (1, 17)\t0.25585529205196594\n",
            "  (1, 39)\t0.25585529205196594\n",
            "  (1, 25)\t0.25585529205196594\n",
            "  (1, 37)\t0.25585529205196594\n",
            "  (1, 29)\t0.25585529205196594\n",
            "  (1, 23)\t0.25585529205196594\n",
            "  (1, 35)\t0.25585529205196594\n",
            "  :\t:\n",
            "  (1, 10)\t0.25585529205196594\n",
            "  (1, 4)\t0.25585529205196594\n",
            "  (1, 14)\t0.25585529205196594\n",
            "  (1, 38)\t0.25585529205196594\n",
            "  (1, 40)\t0.25585529205196594\n",
            "  (1, 36)\t0.15111225709707723\n",
            "  (1, 41)\t0.15111225709707723\n",
            "  (2, 13)\t0.2563720506124583\n",
            "  (2, 1)\t0.2563720506124583\n",
            "  (2, 21)\t0.2563720506124583\n",
            "  (2, 27)\t0.2563720506124583\n",
            "  (2, 28)\t0.2563720506124583\n",
            "  (2, 12)\t0.2563720506124583\n",
            "  (2, 11)\t0.2563720506124583\n",
            "  (2, 8)\t0.2563720506124583\n",
            "  (2, 7)\t0.2563720506124583\n",
            "  (2, 18)\t0.2563720506124583\n",
            "  (2, 22)\t0.19497755259657132\n",
            "  (2, 24)\t0.19497755259657132\n",
            "  (2, 31)\t0.19497755259657132\n",
            "  (2, 19)\t0.19497755259657132\n",
            "  (2, 26)\t0.19497755259657132\n",
            "  (2, 36)\t0.15141746302744505\n",
            "  (2, 2)\t0.19497755259657132\n",
            "  (2, 41)\t0.3028349260548901\n",
            "(3, 42)\n"
          ]
        }
      ]
    },
    {
      "cell_type": "code",
      "source": [
        "# Calculate the cosine similarity\n",
        "similarity = cosine_similarity(feature_vector)\n",
        "\n",
        "# Print the similarity matrix\n",
        "print(similarity)\n",
        "\n"
      ],
      "metadata": {
        "colab": {
          "base_uri": "https://localhost:8080/"
        },
        "id": "Y9Bt1Uz8Hw9f",
        "outputId": "fc9811cb-731f-4f45-926b-4e640eb78640"
      },
      "execution_count": null,
      "outputs": [
        {
          "output_type": "stream",
          "name": "stdout",
          "text": [
            "[[1.         0.04169796 0.27051348]\n",
            " [0.04169796 1.         0.10658272]\n",
            " [0.27051348 0.10658272 1.        ]]\n"
          ]
        }
      ]
    },
    {
      "cell_type": "code",
      "source": [
        "# Creating a list of all ingredients in the dataset\n",
        "list_of_all_ingredients = recipe_data['Ingredients'].tolist()\n",
        "\n"
      ],
      "metadata": {
        "id": "Wn5t7LePHzbp"
      },
      "execution_count": null,
      "outputs": []
    },
    {
      "cell_type": "code",
      "source": [
        "# Preprocess ingredients in the dataset: tokenize and normalize\n",
        "def preprocess_ingredients(ingredient_list):\n",
        "    return [ingredient.strip().lower() for ingredient in ingredient_list.split(',')]\n",
        "\n",
        "recipe_data['ProcessedIngredients'] = recipe_data['Ingredients'].apply(preprocess_ingredients)\n",
        "\n"
      ],
      "metadata": {
        "id": "a48v9NcGH3ha"
      },
      "execution_count": null,
      "outputs": []
    },
    {
      "cell_type": "code",
      "source": [
        "# Function to match user-given ingredients with the dataset\n",
        "def match_ingredients(user_ingredients, recipe_data):\n",
        "    user_ingredients = [ingredient.lower().strip() for ingredient in user_ingredients]\n",
        "    matched_recipes = recipe_data[recipe_data['ProcessedIngredients'].apply(lambda x: any(ingredient in x for ingredient in user_ingredients))]\n",
        "    return matched_recipes\n",
        "\n"
      ],
      "metadata": {
        "id": "mR6hW5yjH7XP"
      },
      "execution_count": null,
      "outputs": []
    },
    {
      "cell_type": "code",
      "source": [
        "# Ask user for ingredients\n",
        "user_input = input(\"Enter the ingredients you want in your recipe (separated by commas): \")\n",
        "ingredient_names = [ingredient.strip() for ingredient in user_input.split(',')]\n",
        "\n"
      ],
      "metadata": {
        "colab": {
          "base_uri": "https://localhost:8080/"
        },
        "id": "I65Il_v-H-A4",
        "outputId": "e9dba6a1-73e8-464b-e772-50acb78abfaa"
      },
      "execution_count": null,
      "outputs": [
        {
          "name": "stdout",
          "output_type": "stream",
          "text": [
            "Enter the ingredients you want in your recipe (separated by commas): tomato,onion\n"
          ]
        }
      ]
    },
    {
      "cell_type": "code",
      "source": [
        "# Find matching recipes\n",
        "matched_recipes = match_ingredients(ingredient_names, recipe_data)\n",
        "\n"
      ],
      "metadata": {
        "id": "JGC8j4kHIB_j"
      },
      "execution_count": null,
      "outputs": []
    },
    {
      "cell_type": "code",
      "source": [
        "if not matched_recipes.empty:\n",
        "    # Get indices of matched recipes\n",
        "    indices = matched_recipes.index.tolist()\n",
        "\n",
        "    # Print the matched recipes\n",
        "    print(f\"Recipes containing any of the ingredients '{', '.join(ingredient_names)}':\")\n",
        "    for idx in indices:\n",
        "        print(recipe_data.loc[idx, 'RecipeName'])\n",
        "\n",
        "    # Find the similarity scores for matched recipes and recommend similar recipes\n",
        "    for idx in indices:\n",
        "        similarity_scores = list(enumerate(similarity[idx]))\n",
        "        sorted_similar_recipes = sorted(similarity_scores, key=lambda x: x[1], reverse=True)\n",
        "\n",
        "        print(f\"\\nRecipes similar to '{recipe_data.loc[idx, 'RecipeName']}':\")\n",
        "        i = 1\n",
        "        for recipe in sorted_similar_recipes[:10]:  # top 10 similar recipes\n",
        "            index = recipe[0]\n",
        "            if index != idx:\n",
        "                print(i, '.', recipe_data['RecipeName'].iloc[index])\n",
        "                i += 1\n",
        "else:\n",
        "    print(\"No recipes found containing the given ingredients.\")\n"
      ],
      "metadata": {
        "colab": {
          "base_uri": "https://localhost:8080/"
        },
        "id": "OrR82G1aIHyB",
        "outputId": "1ec4d54c-f317-4d5e-8b68-997348ee4e62"
      },
      "execution_count": null,
      "outputs": [
        {
          "output_type": "stream",
          "name": "stdout",
          "text": [
            "Recipes containing any of the ingredients 'tomato, onion':\n",
            "Spaghetti Bolognese\n",
            "Vegan Tacos\n",
            "Chicken Salad\n",
            "\n",
            "Recipes similar to 'Spaghetti Bolognese':\n",
            "1 . Chicken Salad\n",
            "2 . Vegan Tacos\n",
            "\n",
            "Recipes similar to 'Vegan Tacos':\n",
            "1 . Chicken Salad\n",
            "2 . Spaghetti Bolognese\n",
            "\n",
            "Recipes similar to 'Chicken Salad':\n",
            "1 . Spaghetti Bolognese\n",
            "2 . Vegan Tacos\n"
          ]
        }
      ]
    },
    {
      "cell_type": "code",
      "source": [
        "import pickle"
      ],
      "metadata": {
        "id": "NvDHgpS0IIoN"
      },
      "execution_count": null,
      "outputs": []
    },
    {
      "cell_type": "code",
      "source": [
        "\n",
        "filename='recipe_recommendation.sav'\n",
        "\n"
      ],
      "metadata": {
        "id": "H5cmnvI5IK8q"
      },
      "execution_count": null,
      "outputs": []
    },
    {
      "cell_type": "code",
      "source": [
        "\n",
        "\n",
        "# Create a dictionary to store both objects\n",
        "save_data = {'vectorizer': vectorizer, 'similarity': similarity}\n",
        "\n",
        "# Save the dictionary containing both objects\n",
        "with open('recipe_recommendation.sav', 'wb') as file:\n",
        "    pickle.dump(save_data, file)\n"
      ],
      "metadata": {
        "id": "kNo0AC_QJ6Ig"
      },
      "execution_count": null,
      "outputs": []
    },
    {
      "cell_type": "code",
      "source": [
        "loaded_model=pickle.load(open('recipe_recommendation.sav','rb'))"
      ],
      "metadata": {
        "id": "qny43AFSJRCB"
      },
      "execution_count": null,
      "outputs": []
    },
    {
      "cell_type": "code",
      "source": [],
      "metadata": {
        "id": "17M3N-viKLMS"
      },
      "execution_count": null,
      "outputs": []
    }
  ]
}